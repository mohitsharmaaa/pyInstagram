{
 "cells": [
  {
   "cell_type": "markdown",
   "metadata": {},
   "source": [
    "\n",
    "#  Playing around with Instagram Data with Python \n",
    "#### [Github](https://github.com/mohitsharmaaa) [Linkedin](https://www.linkedin.com/in/19mohitsharma95/) [Quora](https://www.quora.com/profile/Mohit-Sharma-2828) [Medium](https://medium.com/@mohitsharmaaa) [More](https://mohitsharmaaa.github.io/resume/)"
   ]
  },
  {
   "cell_type": "markdown",
   "metadata": {},
   "source": [
    "###### Please go through readme file to know where to get instagram data."
   ]
  },
  {
   "cell_type": "markdown",
   "metadata": {},
   "source": [
    "Reading **\"likes.json\"** file which contains all the data of each media and comments liked by you.\n",
    "\n",
    "This JSON file only contains two keys : \n",
    "- media_likes  \n",
    "- comment_likes\n",
    "value of these keys are list of [timestamp,username] \n",
    "\n",
    "Check below sample format"
   ]
  },
  {
   "cell_type": "markdown",
   "metadata": {},
   "source": [
    "`{\n",
    "\t\"media_likes\":[\n",
    "\t\t[\n",
    "      \t\t\"2018-10-03T09:13:34\",\n",
    "      \t\t\"the_goodfilms\"\n",
    "    \t],\n",
    "    \t[\n",
    "      \t\t\"2018-10-03T09:13:27\",\n",
    "      \t\t\"hardikpandya93\"\n",
    "    \t]\n",
    "\t],\n",
    "\t\"comment_likes\":[\n",
    "\t\t[\n",
    "      \"2018-09-18T04:42:37\",\n",
    "      \"tom_cruise\"\n",
    "    \t]\n",
    "\t]\n",
    "}`"
   ]
  },
  {
   "cell_type": "markdown",
   "metadata": {},
   "source": [
    "## Top 10 users whose post you liked most.\n"
   ]
  },
  {
   "cell_type": "markdown",
   "metadata": {},
   "source": [
    "We will follow these steps :\n",
    " 1. import required modules\n",
    " 2. open and read json file  \n",
    " 3. parse json & get all the users for media liked list \n",
    " 4. count users in json which will give to total media liked by you of that user\n",
    " 5. find top 10 counts and represent in bar graph."
   ]
  },
  {
   "cell_type": "markdown",
   "metadata": {},
   "source": [
    "##### 1. Importing required modules "
   ]
  },
  {
   "cell_type": "code",
   "execution_count": 1,
   "metadata": {
    "collapsed": true
   },
   "outputs": [],
   "source": [
    "import json\n",
    "import matplotlib.pyplot as plt"
   ]
  },
  {
   "cell_type": "markdown",
   "metadata": {},
   "source": [
    "##### 2. Opening JSON file"
   ]
  },
  {
   "cell_type": "code",
   "execution_count": 2,
   "metadata": {
    "collapsed": true
   },
   "outputs": [],
   "source": [
    "json_file = open(\"likes.json\",\"r\")\n",
    "raw_json  = json_file.read()\n",
    "json_file.close()"
   ]
  },
  {
   "cell_type": "markdown",
   "metadata": {},
   "source": [
    "##### 3. Parsing JSON and getting all users for media likes"
   ]
  },
  {
   "cell_type": "code",
   "execution_count": 3,
   "metadata": {
    "collapsed": true
   },
   "outputs": [],
   "source": [
    "json_object   = json.loads(raw_json)\n",
    "\n",
    "all_usernames = [x[1] for x in json_object[\"media_likes\"]]\n",
    "\n",
    "distinct_usernames=set(all_usernames)"
   ]
  },
  {
   "cell_type": "markdown",
   "metadata": {},
   "source": [
    "##### 4. Counting occurance of each user"
   ]
  },
  {
   "cell_type": "code",
   "execution_count": 4,
   "metadata": {
    "collapsed": true
   },
   "outputs": [],
   "source": [
    "#likes is list of [number_of_likes,username]\n",
    "likes = [[all_usernames.count(user),user] for user in distinct_usernames]\n",
    "likes.sort(reverse=True)"
   ]
  },
  {
   "cell_type": "markdown",
   "metadata": {},
   "source": [
    "##### Printing top 10 user with most likes"
   ]
  },
  {
   "cell_type": "code",
   "execution_count": 5,
   "metadata": {
    "scrolled": true
   },
   "outputs": [
    {
     "name": "stdout",
     "output_type": "stream",
     "text": [
      "435 John_Constantine\n",
      "140 Blackout\n",
      "135 Bling!\n",
      "124 Sauron\n",
      "101 Corsair\n",
      "81 Valerie_Hart\n",
      "80 Loki\n",
      "78 White_Canary\n",
      "77 Nina_Theroux\n",
      "74 Hawkgirl\n"
     ]
    }
   ],
   "source": [
    "# number_of_likes,name\n",
    "for number_of_likes,username in likes[:10]:\n",
    "    print(number_of_likes,username)"
   ]
  },
  {
   "cell_type": "markdown",
   "metadata": {},
   "source": [
    "##### 5. Plotting Bar Graph\n",
    "- ` x     - x coordinates i.e. for plotting users`\n",
    "- ` y     - y coordinates i.e. number of likes`\n",
    "- ` names - contains username of Top 10 liked users`"
   ]
  },
  {
   "cell_type": "code",
   "execution_count": 6,
   "metadata": {},
   "outputs": [
    {
     "data": {
      "image/png": "[encoded data removed]",
      "text/plain": [
       "<matplotlib.figure.Figure at 0x20e40d91da0>"
      ]
     },
     "metadata": {},
     "output_type": "display_data"
    }
   ],
   "source": [
    "x     = [item for item in range(1,11)]\n",
    "names = [item[1] for item in likes[:10]]\n",
    "y     = [item[0] for item in likes[:10]]\n",
    "\n",
    "plt.xlabel(\"Usernames\")\n",
    "plt.ylabel(\"Number of Likes\")\n",
    "plt.title(\"Top 10 Media Liked Users\")\n",
    "plt.bar(x,y)\n",
    "\n",
    "#to write count on bar\n",
    "for i,j in zip(x,y):\n",
    "    plt.text(i,j,j,ha='center',va='top')\n",
    "\n",
    "plt.xticks(x,names)\n",
    "plt.xticks(rotation=75)\n",
    "    \n",
    "plt.show()"
   ]
  },
  {
   "cell_type": "markdown",
   "metadata": {},
   "source": [
    "### Top 10 users whose comments you liked most.\n",
    "\n",
    "We will follow these steps :\n",
    " 1. import required modules (done above )\n",
    " 2. open and read json file (done above )\n",
    " 3. parse json & get all the usernames for comments liked list \n",
    " 4. count usernames in json which will give to total comments liked by you of that username\n",
    " 5. find top 10 counts and represent in bar graph."
   ]
  },
  {
   "cell_type": "markdown",
   "metadata": {},
   "source": [
    "##### 3. Parse Json"
   ]
  },
  {
   "cell_type": "code",
   "execution_count": 7,
   "metadata": {
    "collapsed": true
   },
   "outputs": [],
   "source": [
    "json_object   = json.loads(raw_json)\n",
    "\n",
    "all_usernames_cmts = [x[1] for x in json_object[\"comment_likes\"]]\n",
    "\n",
    "distinct_usernames_cmts=set(all_usernames_cmts)"
   ]
  },
  {
   "cell_type": "markdown",
   "metadata": {},
   "source": [
    "##### 4. Count occurance of each user"
   ]
  },
  {
   "cell_type": "code",
   "execution_count": 8,
   "metadata": {
    "collapsed": true
   },
   "outputs": [],
   "source": [
    "#comment_likes is list of [number_of_likes,username]\n",
    "comment_likes = [[all_usernames_cmts.count(user),user] for user in distinct_usernames_cmts]\n",
    "comment_likes.sort(reverse=True)"
   ]
  },
  {
   "cell_type": "markdown",
   "metadata": {},
   "source": [
    "##### Printing top 10 users with most liked comments\n"
   ]
  },
  {
   "cell_type": "code",
   "execution_count": 9,
   "metadata": {},
   "outputs": [
    {
     "name": "stdout",
     "output_type": "stream",
     "text": [
      "12 Loki\n",
      "8 Rip_Hunter\n",
      "7 Jim_Powell\n",
      "5 Adam_Strange\n",
      "4 Boomer\n",
      "3 Sauron\n",
      "3 Deadman\n",
      "3 Bushido\n",
      "2 Sasquatch\n",
      "2 Molten_Man\n"
     ]
    }
   ],
   "source": [
    "# number_of_likes,name\n",
    "for number_of_likes,username in comment_likes[:10]:\n",
    "    print(number_of_likes,username)"
   ]
  },
  {
   "cell_type": "markdown",
   "metadata": {},
   "source": [
    "##### 5. Plotting Bar Graph"
   ]
  },
  {
   "cell_type": "code",
   "execution_count": 10,
   "metadata": {},
   "outputs": [
    {
     "data": {
      "image/png": "[encoded data removed]",
      "text/plain": [
       "<matplotlib.figure.Figure at 0x20e40d66d30>"
      ]
     },
     "metadata": {},
     "output_type": "display_data"
    }
   ],
   "source": [
    "x     = [item for item in range(1,11)]\n",
    "names = [item[1] for item in comment_likes[:10]]\n",
    "y     = [item[0] for item in comment_likes[:10]]\n",
    "\n",
    "plt.xlabel(\"Users\")\n",
    "plt.ylabel(\"Number of Likes on Comments\")\n",
    "plt.title(\"Top 10 Users with most comments Liked\")\n",
    "plt.bar(x,y)\n",
    "\n",
    "#to write count on bar\n",
    "for i,j in zip(x,y):\n",
    "    plt.text(i,j,j,ha='center',va='top')\n",
    "\n",
    "plt.xticks(x,names)\n",
    "plt.xticks(rotation=75)\n",
    "    \n",
    "plt.show()"
   ]
  },
  {
   "cell_type": "markdown",
   "metadata": {},
   "source": [
    "### Other Details"
   ]
  },
  {
   "cell_type": "code",
   "execution_count": 11,
   "metadata": {},
   "outputs": [
    {
     "data": {
      "image/png": "[encoded data removed]",
      "text/plain": [
       "<matplotlib.figure.Figure at 0x20e413feb00>"
      ]
     },
     "metadata": {},
     "output_type": "display_data"
    },
    {
     "name": "stdout",
     "output_type": "stream",
     "text": [
      "Total Likes : 6196\n"
     ]
    }
   ],
   "source": [
    "total_number_of_media_likes = len(all_usernames)\n",
    "gold,silver,bronze = likes[:3]\n",
    "others = total_number_of_media_likes - gold[0]+silver[0]+bronze[0]\n",
    "\n",
    "labels = [gold[1],silver[1],bronze[1],'All Others']\n",
    "sizes = [gold[0],silver[0],bronze[0],others]\n",
    "explode = (0, 0, 0, 0.1)  # only \"explode\" the 1st slice (i.e. 'Gold')\n",
    "\n",
    "fig1, ax1 = plt.subplots()\n",
    "ax1.pie(sizes, explode=explode, labels=labels, autopct='%1.1f%%',shadow=True, startangle=0)\n",
    "ax1.axis('equal')  # Equal aspect ratio ensures that pie is drawn as a circle.\n",
    "\n",
    "plt.show()\n",
    "print(\"Total Likes : \"+ str(total_number_of_media_likes))"
   ]
  }
 ],
 "metadata": {
  "kernelspec": {
   "display_name": "Python 3",
   "language": "python",
   "name": "python3"
  },
  "language_info": {
   "codemirror_mode": {
    "name": "ipython",
    "version": 3
   },
   "file_extension": ".py",
   "mimetype": "text/x-python",
   "name": "python",
   "nbconvert_exporter": "python",
   "pygments_lexer": "ipython3",
   "version": "3.6.1"
  }
 },
 "nbformat": 4,
 "nbformat_minor": 2
}
